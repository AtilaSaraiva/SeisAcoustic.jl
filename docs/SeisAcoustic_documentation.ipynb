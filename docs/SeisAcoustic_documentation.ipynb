{
 "cells": [
  {
   "cell_type": "markdown",
   "metadata": {},
   "source": [
    "# Documentation for SeisAcoustic "
   ]
  },
  {
   "cell_type": "markdown",
   "metadata": {},
   "source": [
    "This package is developed for acoustic wave modeling and imaging in both time and frequency domain via stagger-grid finite difference method."
   ]
  },
  {
   "cell_type": "markdown",
   "metadata": {},
   "source": [
    "### Name convention"
   ]
  },
  {
   "cell_type": "markdown",
   "metadata": {},
   "source": [
    "1. Struct: camel case, for exmaple the struct for model paramters are named as *ModelParams*.\n",
    "2. function and variable names use lower-case litters and dash line is used to separate words, for example *fd_coefficients*"
   ]
  },
  {
   "cell_type": "markdown",
   "metadata": {},
   "source": [
    "### The location of sources and receivers are specified by grid index, and the index is start from 1."
   ]
  },
  {
   "cell_type": "code",
   "execution_count": null,
   "metadata": {},
   "outputs": [],
   "source": []
  }
 ],
 "metadata": {
  "kernelspec": {
   "display_name": "Julia 1.0.3",
   "language": "julia",
   "name": "julia-1.0"
  },
  "language_info": {
   "file_extension": ".jl",
   "mimetype": "application/julia",
   "name": "julia",
   "version": "1.0.3"
  }
 },
 "nbformat": 4,
 "nbformat_minor": 2
}
