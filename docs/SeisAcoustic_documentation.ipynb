{
 "cells": [
  {
   "cell_type": "markdown",
   "metadata": {},
   "source": [
    "# Documentation for SeisAcoustic "
   ]
  },
  {
   "cell_type": "markdown",
   "metadata": {},
   "source": [
    "## Theory "
   ]
  },
  {
   "cell_type": "markdown",
   "metadata": {},
   "source": [
    "### Acoustic wave eqaution\n",
    "The first order acoustic wave equation can be expressed as\n",
    "$$\\begin{align}\n",
    "\\rho \\frac{\\partial v_z}{\\partial t} &=  \\frac{\\partial }{\\partial z} \\left( p_z + p_x \\right)  \\\\\n",
    "\\rho \\frac{\\partial v_x}{\\partial t} &=  \\frac{\\partial }{\\partial x} \\left( p_z + p_x \\right) \\\\\n",
    "\\frac{\\partial p_z}{\\partial t} &= k \\frac{\\partial v_z}{\\partial z} + S(t)\\\\\n",
    "\\frac{\\partial p_x}{\\partial t} &= k \\frac{\\partial v_x}{\\partial x} \\\\\n",
    "\\end{align},$$\n",
    "where $\\rho$ is density, $k$ is bulk modulus, the pressure $p$ is split into two unphysical components $p_z$ and $p_x$, where $p = p_z + p_x$. These two components are used to account for the PML absorbing boundary conditions. s(t) is the pressure source term applied to the sum of the last two equations."
   ]
  },
  {
   "cell_type": "markdown",
   "metadata": {},
   "source": [
    "### Born approximation\n",
    "\n",
    "Assure the density term is constant, the scatter wavefield is produced by the perturbation of bulk modulus $k$, so the new wavefield is governed by the following equations:\n",
    "$$\n",
    "\\begin{align}\n",
    "\\rho \\frac{\\partial v_z + \\Delta v_z}{\\partial t} &=  \\frac{\\partial }{\\partial z} \\left( p_{z} + p_x + \\Delta p_z  + \\Delta p_x \\right) \\\\\n",
    "\\rho \\frac{\\partial v_x+ \\Delta v_x}{\\partial t} &=  \\frac{\\partial }{\\partial x} \\left( p_{z} + p_x + \\Delta p_z  + \\Delta p_x \\right) \\\\\n",
    "\\frac{\\partial p_{z} + \\Delta p_{z}}{\\partial t} &=(k+\\Delta k) \\frac{\\partial (v_z + \\Delta v_z)}{\\partial z} + s(t)\\\\\n",
    "\\frac{\\partial p_{x} + \\Delta p_x}{\\partial t} &= (k+\\Delta k) \\frac{\\partial (v_x + \\Delta v_x)}{\\partial x} \\\\\n",
    "\\end{align}\n",
    "$$\n",
    "Subtracted by the the equations without pertubations, we get the scattered wave field equations a "
   ]
  },
  {
   "cell_type": "markdown",
   "metadata": {},
   "source": [
    "### Name convention"
   ]
  },
  {
   "cell_type": "markdown",
   "metadata": {},
   "source": [
    "1. Struct: camel case, for exmaple the struct for model paramters are named as *ModelParams*.\n",
    "2. function and variable names use lower-case litters and dash line is used to separate words, for example *fd_coefficients*"
   ]
  },
  {
   "cell_type": "markdown",
   "metadata": {},
   "source": [
    "### The location of sources and receivers are specified by grid index, and the index is start from 1."
   ]
  },
  {
   "cell_type": "code",
   "execution_count": null,
   "metadata": {},
   "outputs": [],
   "source": []
  }
 ],
 "metadata": {
  "kernelspec": {
   "display_name": "Julia 1.0.3",
   "language": "julia",
   "name": "julia-1.0"
  },
  "language_info": {
   "file_extension": ".jl",
   "mimetype": "application/julia",
   "name": "julia",
   "version": "1.0.3"
  }
 },
 "nbformat": 4,
 "nbformat_minor": 2
}
