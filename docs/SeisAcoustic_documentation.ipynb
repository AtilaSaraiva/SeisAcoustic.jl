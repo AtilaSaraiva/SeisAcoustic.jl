{
 "cells": [
  {
   "cell_type": "markdown",
   "metadata": {},
   "source": [
    "# Documentation for SeisAcoustic "
   ]
  },
  {
   "cell_type": "markdown",
   "metadata": {},
   "source": [
    "## Theory "
   ]
  },
  {
   "cell_type": "markdown",
   "metadata": {},
   "source": [
    "### Acoustic wave eqaution\n",
    "The first order acoustic wave equation can be expressed as\n",
    "$$\\begin{align}\n",
    "\\rho \\frac{\\partial v_z}{\\partial t} &=  \\frac{\\partial }{\\partial z} \\left( p_z + p_x \\right)  \\\\\n",
    "\\rho \\frac{\\partial v_x}{\\partial t} &=  \\frac{\\partial }{\\partial x} \\left( p_z + p_x \\right) \\\\\n",
    "\\frac{\\partial p_z}{\\partial t} &= k \\frac{\\partial v_z}{\\partial z} + S(t)\\\\\n",
    "\\frac{\\partial p_x}{\\partial t} &= k \\frac{\\partial v_x}{\\partial x} \\\\\n",
    "\\end{align},$$\n",
    "where $\\rho$ is density, $k$ is bulk modulus, the pressure $p$ is split into two unphysical components $p_z$ and $p_x$, where $p = p_z + p_x$. These two components are used to account for the PML absorbing boundary conditions. s(t) is the pressure source term applied to the sum of the last two equations."
   ]
  },
  {
   "cell_type": "markdown",
   "metadata": {},
   "source": [
    "### Born approximation\n",
    "\n",
    "Assure the density term is constant, the scatter wavefield is produced by the perturbation of bulk modulus $k$, so the new wavefield is governed by the following equations:\n",
    "$$\n",
    "\\begin{align}\n",
    "\\rho \\frac{\\partial (v_z + \\Delta v_z)}{\\partial t} &=  \\frac{\\partial }{\\partial z} \\left( p_{z} + p_x + \\Delta p_z  + \\Delta p_x \\right) \\\\\n",
    "\\rho \\frac{\\partial (v_x+ \\Delta v_x)}{\\partial t} &=  \\frac{\\partial }{\\partial x} \\left( p_{z} + p_x + \\Delta p_z  + \\Delta p_x \\right) \\\\\n",
    "\\frac{\\partial (p_{z} + \\Delta p_{z})}{\\partial t} &=(k+\\Delta k) \\frac{\\partial (v_z + \\Delta v_z)}{\\partial z} + s(t)\\\\\n",
    "\\frac{\\partial (p_{x} + \\Delta p_x)}{\\partial t} &= (k+\\Delta k) \\frac{\\partial (v_x + \\Delta v_x)}{\\partial x} \\\\\n",
    "\\end{align}\n",
    "$$\n",
    "Subtracted by the original wave equation without model parameters pertubations and ignore the higher order terms, we get the scattered wave field equations as\n",
    "$$\n",
    "\\begin{align}\n",
    "\\rho \\frac{\\partial \\Delta v_z}{\\partial t} &=  \\frac{\\partial }{\\partial z} \\left(\\Delta p_z  + \\Delta p_x \\right) \\\\\n",
    "\\rho \\frac{\\partial \\Delta v_x}{\\partial t} &=  \\frac{\\partial }{\\partial x} \\left(\\Delta p_z  + \\Delta p_x \\right) \\\\\n",
    "\\frac{\\partial  \\Delta p_{z}}{\\partial t} &= k \\frac{\\partial  \\Delta v_z}{\\partial z} + \\Delta k \\frac{\\partial v_z}{\\partial z}\\\\\n",
    "\\frac{\\partial \\Delta p_x}{\\partial t} &= k \\frac{\\partial  \\Delta v_x}{\\partial x} + \\Delta k \\frac{\\partial v_x}{\\partial x} \\\\\n",
    "\\end{align}\n",
    "$$\n",
    "combine the last two equations, we get\n",
    "$$\n",
    "\\frac{\\partial (\\Delta p_z + \\Delta p_x)}{\\partial t} = k (\\frac{\\partial  \\Delta v_z}{\\partial z} + \\frac{\\partial  \\Delta v_x}{\\partial x} ) + \\Delta k (\\frac{\\partial v_z}{\\partial z} + \\frac{\\partial v_x}{\\partial x}) \\\\\n",
    "$$\n",
    "We know that $$\\frac{\\partial (p_z + p_x)}{\\partial t} = k( \\frac{\\partial v_z}{\\partial z} + \\frac{\\partial v_x}{\\partial x}) + S(t)$$\n",
    "if we $p = p_z + p_x$ and using the equations $$ \\frac{\\partial v_z}{\\partial z} + \\frac{\\partial v_x}{\\partial x} = \\frac{ \\frac{\\partial (p_z + p_x)}{\\partial t} - S(t)}{k} $$\n",
    "\n",
    "So the born approximation is obtained as\n",
    "$$\n",
    "\\begin{align}\n",
    "\\rho \\frac{\\partial \\Delta v_z}{\\partial t} &=  \\frac{\\partial }{\\partial z} \\left(\\Delta p_z  + \\Delta p_x \\right) \\\\\n",
    "\\rho \\frac{\\partial \\Delta v_x}{\\partial t} &=  \\frac{\\partial }{\\partial x} \\left(\\Delta p_z  + \\Delta p_x \\right) \\\\\n",
    "\\frac{\\partial  \\Delta p_{z}}{\\partial t} &= k \\frac{\\partial  \\Delta v_z}{\\partial z} +  \\frac{ \\frac{\\partial p}{\\partial t} - S(t)}{k} \\Delta k \\\\\n",
    "\\frac{\\partial \\Delta p_x}{\\partial t} &= k \\frac{\\partial  \\Delta v_x}{\\partial x}  \\\\\n",
    "\\end{align}\n",
    "$$\n",
    "$\\frac{ \\frac{\\partial p}{\\partial t} - S(t)}{k}$ is the so-called source-side wavefield and $\\Delta k$ is the model parameter permutation.\n"
   ]
  },
  {
   "cell_type": "markdown",
   "metadata": {},
   "source": [
    "### Name convention"
   ]
  },
  {
   "cell_type": "markdown",
   "metadata": {},
   "source": [
    "1. Struct: camel case, for exmaple the struct for model paramters are named as *ModelParams*.\n",
    "2. function and variable names use lower-case litters and dash line is used to separate words, for example *fd_coefficients*"
   ]
  },
  {
   "cell_type": "markdown",
   "metadata": {},
   "source": [
    "### The location of sources and receivers are specified by grid index, and the index is start from 1."
   ]
  },
  {
   "cell_type": "markdown",
   "metadata": {},
   "source": [
    "## Discretization of Acoustic wave equation "
   ]
  },
  {
   "cell_type": "markdown",
   "metadata": {},
   "source": [
    "We use stagger grid finite difference to discretize the acoustic wave equation, the particle $v_z$ is put on the stagger grid $[i+\\frac{1}{2},j,k]$, $v_x$ is put on the stagger grid $[i, j+\\frac{1}{2}, k]$, and the pressure component is put on the grid $[i,j,k+\\frac{1}{2}]$. Where $i,j,k$ are the index in vertical, horizontal, time directions, respectively."
   ]
  },
  {
   "cell_type": "markdown",
   "metadata": {},
   "source": [
    "### updating ${\\bf v}_z$"
   ]
  },
  {
   "cell_type": "markdown",
   "metadata": {},
   "source": [
    "We move the density term to the right of the equation and expressed as buoyancy.\n",
    "\\begin{equation}\n",
    "\\frac{\\partial v_z}{\\partial t} + \\gamma_z v_z = b \\frac{\\partial p}{\\partial z}\n",
    "\\end{equation}"
   ]
  },
  {
   "cell_type": "markdown",
   "metadata": {},
   "source": [
    "The partial derivative operator is approximated by finite difference and the center of both side of the equation is on $[i+\\frac{1}{2},j,k+\\frac{1}{2}]$. Typically, the time step is much smaller than the spatial grid size, The finite difference is second order in time direction, and the spatial derivative is derived in any user-defined order."
   ]
  },
  {
   "cell_type": "markdown",
   "metadata": {},
   "source": [
    "$$\n",
    "\\frac{v_z[i+\\frac{1}{2},j,k+1] - v_z[i+\\frac{1}{2},j,k]}{dt} + \\gamma_z[i+\\frac{1}{2}]\n",
    "\\frac{v_z[i+\\frac{1}{2},j,k+1] + v_z[i+\\frac{1}{2},j,k]}{2}  = b[i+\\frac{1}{2},j] \\frac{1}{dz} \\left( \\sum_{n=1}^N  a_n (p[i+n,j,k+\\frac{1}{2}] - p[i-n+1,j,k+\\frac{1}{2}])  \\right)\n",
    "$$"
   ]
  },
  {
   "cell_type": "markdown",
   "metadata": {},
   "source": [
    "Times $2dt$ on both side of the equation, we get\n",
    "$$\n",
    "2(v_z[i+\\frac{1}{2},j,k+1] - v_z[i+\\frac{1}{2},j,k]) + dt\\, \\gamma_z[i+\\frac{1}{2}]\n",
    "(v_z[i+\\frac{1}{2},j,k+1] + v_z[i+\\frac{1}{2},j,k])  = 2b[i+\\frac{1}{2},j] \\frac{dt}{dz} \\left( \\sum_{n=1}^N  a_n (p[i+n,j,k+\\frac{1}{2}] - p[i-n+1,j,k+\\frac{1}{2}])  \\right)\n",
    "$$"
   ]
  },
  {
   "cell_type": "markdown",
   "metadata": {},
   "source": [
    "The left side only keep the terms involved with $v_z[i+\\frac{1}{2},j,k+1]$, and all the other terms are moved to the right hand side."
   ]
  },
  {
   "cell_type": "markdown",
   "metadata": {},
   "source": [
    "$$\n",
    "(2+ dt\\, \\gamma_z[i+\\frac{1}{2}])v_z[i+\\frac{1}{2},j,k+1] =  (2- dt\\, \\gamma_z[i+\\frac{1}{2}])v_z[i+\\frac{1}{2},j,k] + 2b[i+\\frac{1}{2},j]\\frac{dt}{dz}\n",
    "\\left( \\sum_{n=1}^N  a_n (p[i+n,j,k+\\frac{1}{2}] - p[i-n+1,j,k+\\frac{1}{2}])  \\right)\n",
    "$$"
   ]
  },
  {
   "cell_type": "markdown",
   "metadata": {},
   "source": [
    "The final form of the equation become\n",
    "$$\n",
    "v_z[i+\\frac{1}{2},j,k+1] =  \\frac{2- dt\\, \\gamma_z[i+\\frac{1}{2}]}{(2+ dt\\, \\gamma_z[i+\\frac{1}{2}])}v_z[i+\\frac{1}{2},j,k] + \\frac{2b[i+\\frac{1}{2},j] \\, dt}{(2+ dt\\, \\gamma_z[i+\\frac{1}{2}])}\n",
    "\\left(\\frac{1}{dz} \\sum_{n=1}^N  a_n (p[i+n,j,k+\\frac{1}{2}] - p[i-n+1,j,k+\\frac{1}{2}])  \\right)\n",
    "$$"
   ]
  },
  {
   "cell_type": "markdown",
   "metadata": {},
   "source": [
    "#### Details about coding:\n",
    "we create a vector ${\\bf M}_{v_z}^{v_z}$ length of $N_z$, which save the elements of pre-computed $\\frac{2- dt\\, \\gamma_z[i+\\frac{1}{2}]}{(2+ dt\\, \\gamma_z[i+\\frac{1}{2}])}$, another vector called ${\\bf M}_p^{v_z}$ length of $N_z \\cdot N_x$, which save the elements of pre-computed $\\frac{2b[i+\\frac{1}{2},j]}{(2+ dt\\, \\gamma_z[i+\\frac{1}{2}])}\\frac{dt}{dz}$. In our implementation, the wavefield are savd in a long vector. "
   ]
  },
  {
   "cell_type": "markdown",
   "metadata": {},
   "source": [
    "For the spatial derivative, we use a 5 point grid, fourth-order finite difference as an example. We write them into matrix times vector form, which facilitate us to derive its associated adjoint operator.\n",
    "$$\n",
    "\\begin{bmatrix}\n",
    "\\frac{\\partial p}{\\partial z}[1+\\frac{1}{2}] \\\\\n",
    "\\frac{\\partial p}{\\partial z}[2+\\frac{1}{2}] \\\\\n",
    "\\frac{\\partial p}{\\partial z}[3+\\frac{1}{2}] \\\\\n",
    "\\frac{\\partial p}{\\partial z}[4+\\frac{1}{2}] \\\\\n",
    "\\frac{\\partial p}{\\partial z}[5+\\frac{1}{2}] \\\\\n",
    "\\end{bmatrix}\n",
    "= \\begin{bmatrix}\n",
    "-a_1 & a_1 & a_2 & & \\\\\n",
    "-a_2 & -a_1 & a_1 & a_2 & \\\\\n",
    "& -a_2 & -a_1 & a_1 & a_2 \\\\\n",
    "& & -a_2 & -a_1 & a_1 \\\\\n",
    "& & & -a_2 & -a_1 \\\\\n",
    "\\end{bmatrix}\n",
    "\\begin{bmatrix}\n",
    "p[1] \\\\\n",
    "p[2] \\\\\n",
    "p[3] \\\\\n",
    "p[4] \\\\\n",
    "p[5] \\\\\n",
    "\\end{bmatrix}\n",
    "$$"
   ]
  },
  {
   "cell_type": "markdown",
   "metadata": {},
   "source": [
    "In above expressions, we assum the value of wavefield outside the computation area is zero. The adjoint operator is given as\n",
    "$$\n",
    "\\begin{bmatrix}\n",
    "p[1] \\\\\n",
    "p[2] \\\\\n",
    "p[3] \\\\\n",
    "p[4] \\\\\n",
    "p[5] \\\\\n",
    "\\end{bmatrix}\n",
    "= - \\begin{bmatrix}\n",
    "a_1 & a_2 & & & \\\\\n",
    "-a_1 & a_1 & a_2 &  & \\\\\n",
    "-a_2 & -a_1 & a_1 & a_2 &  \\\\\n",
    "& -a_2& -a_1 & a_1 & a_2 \\\\\n",
    "& & -a_2 & -a_1 & a_1 \\\\\n",
    "\\end{bmatrix}\n",
    "\\begin{bmatrix}\n",
    "\\frac{\\partial p}{\\partial z}[1+\\frac{1}{2}] \\\\\n",
    "\\frac{\\partial p}{\\partial z}[2+\\frac{1}{2}] \\\\\n",
    "\\frac{\\partial p}{\\partial z}[3+\\frac{1}{2}] \\\\\n",
    "\\frac{\\partial p}{\\partial z}[4+\\frac{1}{2}] \\\\\n",
    "\\frac{\\partial p}{\\partial z}[5+\\frac{1}{2}] \\\\\n",
    "\\end{bmatrix}\n",
    "$$"
   ]
  },
  {
   "cell_type": "markdown",
   "metadata": {},
   "source": [
    "### updating ${\\bf v}_x$"
   ]
  },
  {
   "cell_type": "markdown",
   "metadata": {},
   "source": [
    "With respect to the second equation\n",
    "$$\n",
    "\\frac{\\partial v_x}{\\partial t} + \\gamma_x v_x = b \\frac{\\partial p}{\\partial x}\n",
    "$$"
   ]
  },
  {
   "cell_type": "markdown",
   "metadata": {},
   "source": [
    "We just give the final form of the discretized equation as \n",
    "$$\n",
    "v_x[i,j+\\frac{1}{2},k+1] =  \\frac{2- dt\\, \\gamma_x[j+\\frac{1}{2}]}{(2+ dt\\, \\gamma_x[j+\\frac{1}{2}])}v_x[i,j+\\frac{1}{2},k] + \\frac{2b[i,j+\\frac{1}{2}]}{(2+ dt\\, \\gamma_x[j+\\frac{1}{2}])}\\frac{dt}{dx}\n",
    "\\left( \\sum_{n=1}^N  a_n (p[i,j+n,k+\\frac{1}{2}] - p[i,j-n+1,k+\\frac{1}{2}]) \\right)\n",
    "$$"
   ]
  },
  {
   "cell_type": "markdown",
   "metadata": {},
   "source": [
    "#### Details about coding:\n",
    "we create a vector ${\\bf M}_{v_x}^{v_x}$ length of $N_x$, which save the elements of pre-computed $\\frac{2- dt\\, \\gamma_x[j+\\frac{1}{2}]}{(2+ dt\\, \\gamma_x[j+\\frac{1}{2}])}$, another vector called ${\\bf M}_p^{v_x}$ length of $N_z \\cdot N_x$, which save the elements of pre-computed $\\frac{2b[i,j+\\frac{1}{2}]}{(2+ dt\\, \\gamma_x[j+\\frac{1}{2}])}\\frac{dt}{dx}$."
   ]
  },
  {
   "cell_type": "markdown",
   "metadata": {},
   "source": [
    "For the spatial derivative, we use a 5 point grid, fourth-order finite difference as an example. We write them into matrix times vector form, which facilitate us to derive its associated adjoint operator.\n",
    "$$\n",
    "\\begin{bmatrix}\n",
    "\\frac{\\partial p}{\\partial x}[1+\\frac{1}{2}] \\\\\n",
    "\\frac{\\partial p}{\\partial x}[2+\\frac{1}{2}] \\\\\n",
    "\\frac{\\partial p}{\\partial x}[3+\\frac{1}{2}] \\\\\n",
    "\\frac{\\partial p}{\\partial x}[4+\\frac{1}{2}] \\\\\n",
    "\\frac{\\partial p}{\\partial x}[5+\\frac{1}{2}] \\\\\n",
    "\\end{bmatrix}\n",
    "= \\begin{bmatrix}\n",
    "-a_1 & a_1 & a_2 & & \\\\\n",
    "-a_2 & -a_1 & a_1 & a_2 & \\\\\n",
    "& -a_2 & -a_1 & a_1 & a_2 \\\\\n",
    "& & -a_2 & -a_1 & a_1 \\\\\n",
    "& & & -a_2 & -a_1 \\\\\n",
    "\\end{bmatrix}\n",
    "\\begin{bmatrix}\n",
    "p[1] \\\\\n",
    "p[2] \\\\\n",
    "p[3] \\\\\n",
    "p[4] \\\\\n",
    "p[5] \\\\\n",
    "\\end{bmatrix}\n",
    "$$"
   ]
  },
  {
   "cell_type": "markdown",
   "metadata": {},
   "source": [
    "In above expressions, we assum the value of wavefield outside the computation area is zero. The adjoint operator is given as\n",
    "$$\n",
    "\\begin{bmatrix}\n",
    "p[1] \\\\\n",
    "p[2] \\\\\n",
    "p[3] \\\\\n",
    "p[4] \\\\\n",
    "p[5] \\\\\n",
    "\\end{bmatrix}\n",
    "= - \\begin{bmatrix}\n",
    "a_1 & a_2 & & & \\\\\n",
    "-a_1 & a_1 & a_2 &  & \\\\\n",
    "-a_2 & -a_1 & a_1 & a_2 &  \\\\\n",
    "& -a_2& -a_1 & a_1 & a_2 \\\\\n",
    "& & -a_2 & -a_1 & a_1 \\\\\n",
    "\\end{bmatrix}\n",
    "\\begin{bmatrix}\n",
    "\\frac{\\partial p}{\\partial x}[1+\\frac{1}{2}] \\\\\n",
    "\\frac{\\partial p}{\\partial x}[2+\\frac{1}{2}] \\\\\n",
    "\\frac{\\partial p}{\\partial x}[3+\\frac{1}{2}] \\\\\n",
    "\\frac{\\partial p}{\\partial x}[4+\\frac{1}{2}] \\\\\n",
    "\\frac{\\partial p}{\\partial x}[5+\\frac{1}{2}] \\\\\n",
    "\\end{bmatrix}\n",
    "$$"
   ]
  },
  {
   "cell_type": "markdown",
   "metadata": {},
   "source": [
    "The last equation is give as \n",
    "$$\n",
    "\\frac{\\partial p}{\\partial t} = k(\\frac{\\partial v_z}{\\partial z} + \\frac{\\partial v_x}{\\partial x}) + \\delta(z-z_0, x-x_0)f(t)\n",
    "$$"
   ]
  },
  {
   "cell_type": "markdown",
   "metadata": {},
   "source": [
    "where $f(t)$ is the source signature and $(z_0,x_0)$ indicate the location of source."
   ]
  },
  {
   "cell_type": "markdown",
   "metadata": {},
   "source": [
    "To accomodate the PML obsorbing boundary conditions, the pressure component is splited into two unphysical terms $p_z$ and $p_x$, and $p = p_z + p_x$. We get two equations for pressure component."
   ]
  },
  {
   "cell_type": "markdown",
   "metadata": {},
   "source": [
    "$$\n",
    "\\begin{align}\n",
    "\\frac{\\partial p_z}{\\partial t} + \\gamma_z p_z &= k \\frac{\\partial v_z}{\\partial z} \\\\\n",
    "\\frac{\\partial p_x}{\\partial t} + \\gamma_x p_x &= k \\frac{\\partial v_x}{\\partial x} +  \\delta(z-z_0, x-x_0)f(t) \\\\\n",
    "\\end{align}\n",
    "$$"
   ]
  },
  {
   "cell_type": "markdown",
   "metadata": {},
   "source": [
    "As the source term is additive, so it can be added to either one of the above equations."
   ]
  },
  {
   "cell_type": "markdown",
   "metadata": {},
   "source": [
    "### updating ${\\bf p}_z$"
   ]
  },
  {
   "cell_type": "markdown",
   "metadata": {},
   "source": [
    "$$\n",
    "\\frac{\\partial p_z}{\\partial t} + \\gamma_z p_z = k \\frac{\\partial v_z}{\\partial z}\n",
    "$$"
   ]
  },
  {
   "cell_type": "markdown",
   "metadata": {},
   "source": [
    "Where $k$ is bulk modulus, and $k = \\rho v^2$"
   ]
  },
  {
   "cell_type": "markdown",
   "metadata": {},
   "source": [
    "The partial derivative operator is approximated by finite difference and the center of both side of the equation is on $[i,j,k+1]$. "
   ]
  },
  {
   "cell_type": "markdown",
   "metadata": {},
   "source": [
    "$$\n",
    "\\frac{p_z[i,j,k+\\frac{3}{2}] - p_z[i,j,k+\\frac{1}{2}]}{dt} + \\gamma_z[i]\n",
    "\\frac{p_z[i,j,k+\\frac{3}{2}] + p_z[i,j,k+\\frac{1}{2}]}{2} = k[i,j] \\frac{1}{dz} \\left( \\sum_{n=1}^N  a_n (v_z[i+n-\\frac{1}{2},j,k+1] - v_z[i-n+\\frac{1}{2},j,k+1]) \\right)\n",
    "$$"
   ]
  },
  {
   "cell_type": "markdown",
   "metadata": {},
   "source": [
    "Times $2dt$ on both side of the equation, we get\n",
    "$$\n",
    "2(p_z[i,j,k+\\frac{3}{2}] - p_z[i,j,k+\\frac{1}{2}]) + dt \\, \\gamma_z[i]\n",
    "(p_z[i,j,k+\\frac{3}{2}] + p_z[i,j,k+\\frac{1}{2}]) = 2k[i,j] \\frac{dt}{dz} \\left( \\sum_{n=1}^N  a_n (v_z[i+n-\\frac{1}{2},j,k+1] - v_z[i-n+\\frac{1}{2},j,k+1]) \\right)\n",
    "$$"
   ]
  },
  {
   "cell_type": "markdown",
   "metadata": {},
   "source": [
    "After some simple operations, we can get\n",
    "$$\n",
    "(2+dt \\, \\gamma_z[i])p_z[i,j,k+\\frac{3}{2}] = (2-dt \\, \\gamma_z[i]) p_z[i,j,k+\\frac{1}{2}] + 2k[i,j] \\frac{dt}{dz} \\left( \\sum_{n=1}^N  a_n (v_z[i+n-\\frac{1}{2},j,k+1] - v_z[i-n+\\frac{1}{2},j,k+1]) \\right)\n",
    "$$"
   ]
  },
  {
   "cell_type": "markdown",
   "metadata": {},
   "source": [
    "the final form for this equation is given as \n",
    "$$\n",
    "p_z[i,j,k+\\frac{3}{2}] = \\frac{2-dt \\, \\gamma_z[i]}{2+dt \\, \\gamma_z[i]} p_z[i,j,k+\\frac{1}{2}] + \\frac{2k[i,j]}{2+dt \\, \\gamma_z[i]}\\frac{dt}{dz} \\left( \\sum_{n=1}^N  a_n (v_z[i+n-\\frac{1}{2},j,k+1] - v_z[i-n+\\frac{1}{2},j,k+1]) \\right)\n",
    "$$"
   ]
  },
  {
   "cell_type": "markdown",
   "metadata": {},
   "source": [
    "\n",
    "#### Details about coding:\n",
    "we create a vector ${\\bf M}_{p_z}^{p_z}$ length of $N_z$, which save the elements of pre-computed $\\frac{2- dt\\, \\gamma_z[i]}{(2+ dt\\, \\gamma_z[i])}$, another vector called ${\\bf M}_{v_z}^{p_z}$ length of $N_z \\cdot N_x$, which save the elements of pre-computed $\\frac{2k[i,j]}{(2+ dt\\, \\gamma_z[i])}\\frac{dt}{dz}$."
   ]
  },
  {
   "cell_type": "markdown",
   "metadata": {},
   "source": [
    "For the spatial derivative, we use a 5 point grid, fourth-order finite difference as an example. We write them into matrix times vector form, which facilitate us to derive its associated adjoint operator.\n",
    "$$\n",
    "\\begin{bmatrix}\n",
    "\\frac{\\partial v_z}{\\partial z}[1] \\\\\n",
    "\\frac{\\partial v_z}{\\partial z}[2] \\\\\n",
    "\\frac{\\partial v_z}{\\partial z}[3] \\\\\n",
    "\\frac{\\partial v_z}{\\partial z}[4] \\\\\n",
    "\\frac{\\partial v_z}{\\partial z}[5] \\\\\n",
    "\\end{bmatrix}\n",
    "= \\begin{bmatrix}\n",
    "a_1 & a_2 & & &\\\\\n",
    "-a_1& a_1 & a_2 & & \\\\\n",
    "-a_2& -a_1 & a_1 & a_2 & \\\\\n",
    "& -a_2 & -a_1 & a_1 & a_2 \\\\\n",
    "& & -a_2 & -a_1 & a_1 \\\\\n",
    "\\end{bmatrix}\n",
    "\\begin{bmatrix}\n",
    "v_z[1+\\frac{1}{2}] \\\\\n",
    "v_z[2+\\frac{1}{2}] \\\\\n",
    "v_z[3+\\frac{1}{2}] \\\\\n",
    "v_z[4+\\frac{1}{2}] \\\\\n",
    "v_z[5+\\frac{1}{2}] \\\\\n",
    "\\end{bmatrix}\n",
    "$$"
   ]
  },
  {
   "cell_type": "markdown",
   "metadata": {},
   "source": [
    "In above expressions, we assum the value of wavefield outside the computation area is zero. The adjoint operator is given as\n",
    "$$\n",
    "\\begin{bmatrix}\n",
    "v_z[1+\\frac{1}{2}] \\\\\n",
    "v_z[2+\\frac{1}{2}] \\\\\n",
    "v_z[3+\\frac{1}{2}] \\\\\n",
    "v_z[4+\\frac{1}{2}] \\\\\n",
    "v_z[5+\\frac{1}{2}] \\\\\n",
    "\\end{bmatrix}\n",
    "= - \\begin{bmatrix}\n",
    "-a_1 & a_1 & a_2 & & \\\\\n",
    "-a_2 & -a_1 & a_1 & a_2 &   \\\\\n",
    "& -a_2 & -a_1 & a_1 & a_2  \\\\\n",
    "& & -a_2 & -a_1 & a_1  \\\\\n",
    "& & & -a_2 & -a_1  \\\\\n",
    "\\end{bmatrix}\n",
    "\\begin{bmatrix}\n",
    "\\frac{\\partial v_z}{\\partial z}[1] \\\\\n",
    "\\frac{\\partial v_z}{\\partial z}[2] \\\\\n",
    "\\frac{\\partial v_z}{\\partial z}[3] \\\\\n",
    "\\frac{\\partial v_z}{\\partial z}[4] \\\\\n",
    "\\frac{\\partial v_z}{\\partial z}[5] \\\\\n",
    "\\end{bmatrix}\n",
    "$$"
   ]
  },
  {
   "cell_type": "markdown",
   "metadata": {},
   "source": [
    "### updating ${\\bf p}_x$\n",
    "Similarly, we can get the discretized equations for the last equation"
   ]
  },
  {
   "cell_type": "markdown",
   "metadata": {},
   "source": [
    "$$\n",
    "\\frac{\\partial p_x}{\\partial t} + \\gamma_x p_x = k \\frac{\\partial v_x}{\\partial x} +  \\delta(z-z_0, x-x_0)f(t) \\\\\n",
    "$$"
   ]
  },
  {
   "cell_type": "markdown",
   "metadata": {},
   "source": [
    "$$\n",
    "\\frac{p_x[i,j,k+\\frac{3}{2}] - p_x[i,j,k+\\frac{1}{2}]}{dt} + \\gamma_x[j]\n",
    "\\frac{p_x[i,j,k+\\frac{3}{2}] + p_z[i,j,k+\\frac{1}{2}]}{2} = k[i,j] \\frac{1}{dx} \\left( \\sum_{n=1}^N  a_n (v_x[i,j+n-\\frac{1}{2},k+1] - v_x[i,j-n+\\frac{1}{2},k+1]) \\right) + \\delta(z-z_0, x-x_0) f(t)\n",
    "$$"
   ]
  },
  {
   "cell_type": "markdown",
   "metadata": {},
   "source": [
    "Time $2\\,dt$ on both side of the equations, we get\n",
    "$$\n",
    "2(p_x[i,j,k+\\frac{3}{2}] - p_x[i,j,k+\\frac{1}{2}]) + dt \\, \\gamma_x[j]\n",
    "(p_x[i,j,k+\\frac{3}{2}] + p_x[i,j,k+\\frac{1}{2}]) = 2 k[i,j] \\frac{dt}{dx} \\left( \\sum_{n=1}^N  a_n (v_x[i,j+n-\\frac{1}{2},k+1] - v_x[i,j-n+\\frac{1}{2},k+1]) \\right) + 2 dt\\, \\delta(z-z_0, x-x_0)f(t)\n",
    "$$"
   ]
  },
  {
   "cell_type": "markdown",
   "metadata": {},
   "source": [
    "Move the terms include $p_x[i,j,k+\\frac{3}{2}]$ to the left side of the equation\n",
    "$$\n",
    "(2+dt \\, \\gamma_x[j])p_x[i,j,k+\\frac{3}{2}] = (2-dt \\, \\gamma_x[j]) p_x[i,j,k+\\frac{1}{2}] + 2k[i,j] \\frac{dt}{dx} \\left( \\sum_{n=1}^N  a_n (v_x[i,j+n-\\frac{1}{2},k+1] - v_x[i,j-n+\\frac{1}{2},k+1]) \\right) + 2 dt\\, \\delta(z-z_0, x-x_0)f(t)\n",
    "$$"
   ]
  },
  {
   "cell_type": "markdown",
   "metadata": {},
   "source": [
    "divided by the the term $(2+ dt\\, \\gamma_x[j])$\n",
    "$$\n",
    "p_x[i,j,k+\\frac{3}{2}] = \\frac{2-dt \\, \\gamma_x[j]}{2+dt \\, \\gamma_x[j]} p_x[i,j,k+\\frac{1}{2}] + \\frac{2k[i,j]}{2+dt \\, \\gamma_x[j]}\\frac{dt}{dx} \\left( \\sum_{n=1}^N  a_n (v_x[i,j+n-\\frac{1}{2},k+1] - v_x[i,j-n+\\frac{1}{2},k+1]) \\right) + dt \\,\\delta(z-z_0, x-x_0)f(t) \n",
    "$$"
   ]
  },
  {
   "cell_type": "markdown",
   "metadata": {},
   "source": [
    "Outside of the PML area, $\\gamma_x$ is always equal to zeros, so we have \n",
    "$$\n",
    "\\frac{2\\,dt}{2+dt\\, \\gamma_x[j]}\\,\\delta(z-z_0, x-x_0)f(t)  = dt \\,\\delta(z-z_0, x-x_0)f(t) \n",
    "$$"
   ]
  },
  {
   "cell_type": "markdown",
   "metadata": {},
   "source": [
    "\n",
    "#### Details about coding:\n",
    "we create a vector ${\\bf M}_{p_x}^{p_x}$ length of $N_x$, which save the elements of pre-computed $\\frac{2- dt\\, \\gamma_x[j]}{(2+ dt\\, \\gamma_x[j])}$, another vector called ${\\bf M}_{v_x}^{p_x}$ length of $N_z \\cdot N_x$, which save the elements of pre-computed $\\frac{2k[i,j]}{(2+ dt\\, \\gamma_x[j])}\\frac{dt}{dx}$."
   ]
  },
  {
   "cell_type": "markdown",
   "metadata": {},
   "source": [
    "For the spatial derivative, we use a 5 point grid, fourth-order finite difference as an example. We write them into matrix times vector form, which facilitate us to derive its associated adjoint operator.\n",
    "$$\n",
    "\\begin{bmatrix}\n",
    "\\frac{\\partial v_x}{\\partial x}[1] \\\\\n",
    "\\frac{\\partial v_x}{\\partial x}[2] \\\\\n",
    "\\frac{\\partial v_x}{\\partial x}[3] \\\\\n",
    "\\frac{\\partial v_x}{\\partial x}[4] \\\\\n",
    "\\frac{\\partial v_x}{\\partial x}[5] \\\\\n",
    "\\end{bmatrix}\n",
    "= \\begin{bmatrix}\n",
    "a_1 & a_2 & & &\\\\\n",
    "-a_1& a_1 & a_2 & & \\\\\n",
    "-a_2& -a_1 & a_1 & a_2 & \\\\\n",
    "& -a_2 & -a_1 & a_1 & a_2 \\\\\n",
    "& & -a_2 & -a_1 & a_1 \\\\\n",
    "\\end{bmatrix}\n",
    "\\begin{bmatrix}\n",
    "v_x[1+\\frac{1}{2}] \\\\\n",
    "v_x[2+\\frac{1}{2}] \\\\\n",
    "v_x[3+\\frac{1}{2}] \\\\\n",
    "v_x[4+\\frac{1}{2}] \\\\\n",
    "v_x[5+\\frac{1}{2}] \\\\\n",
    "\\end{bmatrix}\n",
    "$$"
   ]
  },
  {
   "cell_type": "markdown",
   "metadata": {},
   "source": [
    "In above expressions, we assum the value of wavefield outside the computation area is zero. The adjoint operator is given as\n",
    "$$\n",
    "\\begin{bmatrix}\n",
    "v_x[1+\\frac{1}{2}] \\\\\n",
    "v_x[2+\\frac{1}{2}] \\\\\n",
    "v_x[3+\\frac{1}{2}] \\\\\n",
    "v_x[4+\\frac{1}{2}] \\\\\n",
    "v_x[5+\\frac{1}{2}] \\\\\n",
    "\\end{bmatrix}\n",
    "= - \\begin{bmatrix}\n",
    "-a_1 & a_1 & a_2 & & \\\\\n",
    "-a_2 & -a_1 & a_1 & a_2 &   \\\\\n",
    "& -a_2 & -a_1 & a_1 & a_2  \\\\\n",
    "& & -a_2 & -a_1 & a_1  \\\\\n",
    "& & & -a_2 & -a_1  \\\\\n",
    "\\end{bmatrix}\n",
    "\\begin{bmatrix}\n",
    "\\frac{\\partial v_x}{\\partial x}[1] \\\\\n",
    "\\frac{\\partial v_x}{\\partial x}[2] \\\\\n",
    "\\frac{\\partial v_x}{\\partial x}[3] \\\\\n",
    "\\frac{\\partial v_x}{\\partial x}[4] \\\\\n",
    "\\frac{\\partial v_x}{\\partial x}[5] \\\\\n",
    "\\end{bmatrix}\n",
    "$$"
   ]
  },
  {
   "cell_type": "markdown",
   "metadata": {},
   "source": [
    "We define the the state field vector at two neighbouring time step as \n",
    "$$\n",
    "{\\bf u}^{k} = \\begin{bmatrix}\n",
    "{\\bf v}_z^{k} \\\\\n",
    "{\\bf v}_x^{k} \\\\\n",
    "{\\bf p}_z^{k+\\frac{1}{2}} \\\\\n",
    "{\\bf p}_x^{k+\\frac{1}{2}} \\\\\n",
    "\\end{bmatrix}, \\,\\,\\, \n",
    "{\\bf u}^{k+1} = \\begin{bmatrix}\n",
    "{\\bf v}_z^{k+1} \\\\\n",
    "{\\bf v}_x^{k+1} \\\\\n",
    "{\\bf p}_z^{k+1+\\frac{1}{2}} \\\\\n",
    "{\\bf p}_x^{k+1+\\frac{1}{2}} \\\\\n",
    "\\end{bmatrix},\n",
    "$$"
   ]
  },
  {
   "cell_type": "markdown",
   "metadata": {},
   "source": [
    "With these expressions, one step forward modeling is given as \n",
    "$$\n",
    "\\begin{bmatrix}\n",
    "{\\bf v}_z^{k+1} \\\\\n",
    "{\\bf v}_x^{k+1} \\\\\n",
    "{\\bf p}_z^{k+1+\\frac{1}{2}} \\\\\n",
    "{\\bf p}_x^{k+1+\\frac{1}{2}} \\\\\n",
    "\\end{bmatrix}\n",
    "=\\begin{bmatrix}\n",
    "\\bf{I}   & \\bf{0}   & \\bf{0} & \\bf{0}   \\\\\n",
    "\\bf{0}   & \\bf{I}   & \\bf{0} & \\bf{0}   \\\\\n",
    "{\\bf M}_{v_z}^{p_z} & \\bf{0} & {\\bf M}_{p_z}^{p_z} & \\bf{0}   \\\\ \n",
    "\\bf{0} & {\\bf M}_{v_x}^{p_x} & \\bf{0} & {\\bf M}_{p_x}^{p_x} \\\\ \n",
    "\\end{bmatrix}\n",
    "\\begin{bmatrix}\n",
    "{\\bf M}_{v_z}^{v_z} & \\bf{0} & {\\bf M}_{p}^{v_z} & {\\bf M}_{p}^{v_z} \\\\\n",
    "\\bf{0} & {\\bf M}_{v_x}^{v_x} & {\\bf M}_{p}^{v_x} & {\\bf M}_{p}^{v_x} \\\\\n",
    "\\bf{0}   & \\bf{0}   & \\bf{I}   & \\bf{0}   \\\\\n",
    "\\bf{0}   & \\bf{0}   & \\bf{0}  & \\bf{I}    \\\\\n",
    "\\end{bmatrix}\n",
    "\\begin{bmatrix}\n",
    "{\\bf v}_z^{k} \\\\\n",
    "{\\bf v}_x^{k} \\\\\n",
    "{\\bf p}_z^{k+\\frac{1}{2}} \\\\\n",
    "{\\bf p}_x^{k+\\frac{1}{2}}\n",
    "\\end{bmatrix}\n",
    "$$"
   ]
  },
  {
   "cell_type": "markdown",
   "metadata": {},
   "source": [
    "Or simplified as $${\\bf u}^{k+1} = {\\bf L} {\\bf u}^{k}$$, where $${\\bf L} = {\\bf L_p}{\\bf L_v}$$"
   ]
  },
  {
   "cell_type": "markdown",
   "metadata": {},
   "source": [
    "The multi-step forward modelling can be expressed as, here I just use four time steps as an exmaple which make the derivation of inversion processe much easier.\n",
    "$$\n",
    "\\begin{bmatrix}\n",
    "{\\bf u}^1 \\\\\n",
    "{\\bf u}^2 \\\\\n",
    "{\\bf u}^3 \\\\\n",
    "{\\bf u}^4 \\\\\n",
    "\\end{bmatrix}\n",
    "=\n",
    "\\begin{bmatrix}\n",
    "{\\bf I} & & & \\\\\n",
    " & {\\bf I} & & \\\\\n",
    " & &  {\\bf I}& \\\\\n",
    " & & {\\bf L}& {\\bf I} \\\\\n",
    "\\end {bmatrix}\n",
    "\\begin{bmatrix}\n",
    "{\\bf I} & & & \\\\\n",
    " & {\\bf I} & & \\\\\n",
    " & {\\bf L} &  {\\bf I}& \\\\\n",
    " & & & {\\bf I} \\\\\n",
    "\\end {bmatrix}\n",
    "\\begin{bmatrix}\n",
    "{\\bf I} & & & \\\\\n",
    "{\\bf L} & {\\bf I} & & \\\\\n",
    " & &  {\\bf I}& \\\\\n",
    " & & & {\\bf I} \\\\\n",
    "\\end {bmatrix}\n",
    "\\begin{bmatrix}\n",
    "{\\bf I} & & & \\\\\n",
    "& {\\bf I} & & \\\\\n",
    " & &  {\\bf I}& \\\\\n",
    " & & & {\\bf I} \\\\\n",
    "\\end {bmatrix}\n",
    "\\begin{bmatrix}\n",
    "{\\bf f}_1 \\\\\n",
    "{\\bf f}_2 \\\\\n",
    "{\\bf f}_3 \\\\\n",
    "{\\bf f}_4 \\\\\n",
    "\\end{bmatrix}\n",
    "$$"
   ]
  },
  {
   "cell_type": "markdown",
   "metadata": {},
   "source": [
    "The synthetic data at one time step ${\\bf d}^{k}= {\\bf S} {\\bf u}^{k}$, where ${\\bf S}$ is the sampling operator which depends on the loation of receivers. For FWI, we estimate the model parameters by minimizing the cost function as $$\n",
    "J = \\frac{1}{2}|| {\\bf d} - {\\bf d}_{obs}||_2^2$$, where ${\\bf d}_{obs}$ is the observed data.\n",
    "The next part is to deriving the gradient of the objective function with repect to one model parameter $m_i$.\n",
    "$$\\frac{\\partial J}{\\partial m_i} = (\\frac{\\partial {\\bf u}}{\\partial m_i})^T \\frac{\\partial J}{\\partial {\\bf u}}$$"
   ]
  },
  {
   "cell_type": "markdown",
   "metadata": {},
   "source": [
    "where $\\frac{\\partial J}{\\partial {\\bf u}} = {\\bf S}^T ({\\bf d} - {\\bf d}_{obs})$. Usually, people name the difference between synthetic data and the observed data as residue ${\\bf r}$, so we have $$\n",
    "\\frac{\\partial J}{\\partial {\\bf u}} = {\\bf S}^T {\\bf r}\n",
    "$$"
   ]
  },
  {
   "cell_type": "markdown",
   "metadata": {},
   "source": [
    "The we derivae the derivative of $\\frac{\\partial {\\bf u}}{\\partial m_i}$\n",
    "$$\n",
    "\\begin{align}\n",
    "\\frac{\\partial {\\bf u}}{\\partial m_i} &= \\begin{bmatrix}\n",
    "{\\bf 0} & & & \\\\\n",
    " & {\\bf 0} & & \\\\\n",
    " & &  {\\bf 0}& \\\\\n",
    " & & \\frac{\\partial {\\bf L}}{\\partial m_i}& {\\bf 0} \\\\\n",
    "\\end{bmatrix}\n",
    "\\begin{bmatrix}\n",
    "{\\bf I} & & & \\\\\n",
    " & {\\bf I} & & \\\\\n",
    " & {\\bf L} &  {\\bf I}& \\\\\n",
    " & & & {\\bf I} \\\\\n",
    "\\end {bmatrix}\n",
    "\\begin{bmatrix}\n",
    "{\\bf I} & & & \\\\\n",
    "{\\bf L} & {\\bf I} & & \\\\\n",
    " & &  {\\bf I}& \\\\\n",
    " & & & {\\bf I} \\\\\n",
    "\\end {bmatrix}\n",
    "\\begin{bmatrix}\n",
    "{\\bf I} & & & \\\\\n",
    "& {\\bf I} & & \\\\\n",
    " & &  {\\bf I}& \\\\\n",
    " & & & {\\bf I} \\\\\n",
    "\\end {bmatrix}\n",
    "\\begin{bmatrix}\n",
    "{\\bf f}_1 \\\\\n",
    "{\\bf f}_2 \\\\\n",
    "{\\bf f}_3 \\\\\n",
    "{\\bf f}_4 \\\\\n",
    "\\end{bmatrix}                  \\\\\n",
    "&+ \\begin{bmatrix}\n",
    "{\\bf I} & & & \\\\\n",
    " & {\\bf I} & & \\\\\n",
    " & &  {\\bf I}& \\\\\n",
    " & & {\\bf L}& {\\bf I} \\\\\n",
    "\\end {bmatrix}\n",
    "\\begin{bmatrix}\n",
    "{\\bf 0} & & & \\\\\n",
    " & {\\bf 0} & & \\\\\n",
    " & \\frac{\\partial {\\bf L}}{\\partial m_i} & {\\bf 0}& \\\\\n",
    " & & & {\\bf 0} \\\\\n",
    "\\end {bmatrix}\n",
    "\\begin{bmatrix}\n",
    "{\\bf I} & & & \\\\\n",
    "{\\bf L} & {\\bf I} & & \\\\\n",
    " & &  {\\bf I}& \\\\\n",
    " & & & {\\bf I} \\\\\n",
    "\\end {bmatrix}\n",
    "\\begin{bmatrix}\n",
    "{\\bf I} & & & \\\\\n",
    "& {\\bf I} & & \\\\\n",
    " & &  {\\bf I}& \\\\\n",
    " & & & {\\bf I} \\\\\n",
    "\\end {bmatrix}\n",
    "\\begin{bmatrix}\n",
    "{\\bf f}_1 \\\\\n",
    "{\\bf f}_2 \\\\\n",
    "{\\bf f}_3 \\\\\n",
    "{\\bf f}_4 \\\\\n",
    "\\end{bmatrix}                 \\\\\n",
    "&+ \\begin{bmatrix}\n",
    "{\\bf I} & & & \\\\\n",
    " & {\\bf I} & & \\\\\n",
    " & &  {\\bf I}& \\\\\n",
    " & & {\\bf L}& {\\bf I} \\\\\n",
    "\\end {bmatrix}\n",
    "\\begin{bmatrix}\n",
    "{\\bf I} & & & \\\\\n",
    " & {\\bf I} & & \\\\\n",
    " & {\\bf L} &  {\\bf I}& \\\\\n",
    " & & & {\\bf I} \\\\\n",
    "\\end {bmatrix}\n",
    "\\begin{bmatrix}\n",
    "{\\bf I} & & & \\\\\n",
    "\\frac{\\partial {\\bf L}}{\\partial m_i} & {\\bf I} & & \\\\\n",
    " & &  {\\bf I}& \\\\\n",
    " & & & {\\bf I} \\\\\n",
    "\\end {bmatrix}\n",
    "\\begin{bmatrix}\n",
    "{\\bf I} & & & \\\\\n",
    "& {\\bf I} & & \\\\\n",
    " & &  {\\bf I}& \\\\\n",
    " & & & {\\bf I} \\\\\n",
    "\\end {bmatrix}\n",
    "\\begin{bmatrix}\n",
    "{\\bf f}_1 \\\\\n",
    "{\\bf f}_2 \\\\\n",
    "{\\bf f}_3 \\\\\n",
    "{\\bf f}_4 \\\\\n",
    "\\end{bmatrix}\n",
    "\\end{align}\n",
    "$$"
   ]
  },
  {
   "cell_type": "markdown",
   "metadata": {},
   "source": [
    "The above expression can be simplified as \n",
    "$$\n",
    "\\begin{align}\n",
    "\\frac{\\partial {\\bf u}}{\\partial m_i} &= \\begin{bmatrix}\n",
    "{\\bf 0} & & & \\\\\n",
    " & {\\bf 0} & & \\\\\n",
    " & &  {\\bf 0}& \\\\\n",
    " & & \\frac{\\partial {\\bf L}}{\\partial m_i}& {\\bf 0} \\\\\n",
    "\\end{bmatrix}\n",
    "\\begin{bmatrix}\n",
    "{\\bf u}_1 \\\\\n",
    "{\\bf u}_2 \\\\\n",
    "{\\bf u}_3 \\\\\n",
    "{\\bf f}_4 \\\\\n",
    "\\end{bmatrix}                  \\\\\n",
    "&+ \\begin{bmatrix}\n",
    "{\\bf I} & & & \\\\\n",
    " & {\\bf I} & & \\\\\n",
    " & &  {\\bf I}& \\\\\n",
    " & & {\\bf L}& {\\bf I} \\\\\n",
    "\\end {bmatrix}\n",
    "\\begin{bmatrix}\n",
    "{\\bf 0} & & & \\\\\n",
    " & {\\bf 0} & & \\\\\n",
    " & \\frac{\\partial {\\bf L}}{\\partial m_i} & {\\bf 0}& \\\\\n",
    " & & & {\\bf 0} \\\\\n",
    "\\end {bmatrix}\n",
    "\\begin{bmatrix}\n",
    "{\\bf u}_1 \\\\\n",
    "{\\bf u}_2 \\\\\n",
    "{\\bf f}_3 \\\\\n",
    "{\\bf f}_4 \\\\\n",
    "\\end{bmatrix}                 \\\\\n",
    "&+ \\begin{bmatrix}\n",
    "{\\bf I} & & & \\\\\n",
    " & {\\bf I} & & \\\\\n",
    " & &  {\\bf I}& \\\\\n",
    " & & {\\bf L}& {\\bf I} \\\\\n",
    "\\end {bmatrix}\n",
    "\\begin{bmatrix}\n",
    "{\\bf I} & & & \\\\\n",
    " & {\\bf I} & & \\\\\n",
    " & {\\bf L} &  {\\bf I}& \\\\\n",
    " & & & {\\bf I} \\\\\n",
    "\\end {bmatrix}\n",
    "\\begin{bmatrix}\n",
    "{\\bf 0} & & & \\\\\n",
    "\\frac{\\partial {\\bf L}}{\\partial m_i} & {\\bf 0} & & \\\\\n",
    " & &  {\\bf 0}& \\\\\n",
    " & & & {\\bf 0} \\\\\n",
    "\\end {bmatrix}\n",
    "\\begin{bmatrix}\n",
    "{\\bf u}_1 \\\\\n",
    "{\\bf f}_2 \\\\\n",
    "{\\bf f}_3 \\\\\n",
    "{\\bf f}_4 \\\\\n",
    "\\end{bmatrix}\n",
    "\\end{align}\n",
    "$$"
   ]
  },
  {
   "cell_type": "markdown",
   "metadata": {},
   "source": [
    "$$\n",
    "\\begin{align}\n",
    "\\frac{\\partial J}{\\partial m_i} &= (\\frac{\\partial {\\bf u}}{\\partial m_i})^T \\frac{\\partial J}{\\partial {\\bf u}} \\\\\n",
    "&= \\begin{bmatrix}\n",
    "{\\bf u}_1^T & {\\bf u}_2^T & {\\bf u}_3^T & {\\bf f}_4^T\n",
    "\\end{bmatrix}\n",
    "\\begin{bmatrix}\n",
    "{\\bf 0} & & & \\\\\n",
    " & {\\bf 0} & & \\\\\n",
    " & &  {\\bf 0}& (\\frac{\\partial {\\bf L}}{\\partial m_i})^T \\\\\n",
    " & &  & {\\bf 0} \\\\\n",
    "\\end{bmatrix}\n",
    "\\begin{bmatrix}\n",
    "{\\bf S}^T {\\bf r}_1 \\\\\n",
    "{\\bf S}^T {\\bf r}_2 \\\\\n",
    "{\\bf S}^T {\\bf r}_3 \\\\\n",
    "{\\bf S}^T {\\bf r}_4 \\\\\n",
    "\\end{bmatrix}            \\\\\n",
    "&+ \\begin{bmatrix}\n",
    "{\\bf u}_1^T & {\\bf u}_2^T & {\\bf f}_3^T & {\\bf f}_4^T\n",
    "\\end{bmatrix}\n",
    "\\begin{bmatrix}\n",
    "{\\bf 0} & & & \\\\\n",
    " & {\\bf 0} & (\\frac{\\partial {\\bf L}}{\\partial m_i})^T & \\\\\n",
    " & &  {\\bf 0}&  \\\\\n",
    " & &  & {\\bf 0} \\\\\n",
    "\\end{bmatrix}\n",
    "\\begin{bmatrix}\n",
    "{\\bf I} & & & \\\\\n",
    " & {\\bf I} & & \\\\\n",
    " & &  {\\bf I}& {\\bf L}^T \\\\\n",
    " & & & {\\bf I} \\\\\n",
    "\\end {bmatrix}\n",
    "\\begin{bmatrix}\n",
    "{\\bf S}^T {\\bf r}_1 \\\\\n",
    "{\\bf S}^T {\\bf r}_2 \\\\\n",
    "{\\bf S}^T {\\bf r}_3 \\\\\n",
    "{\\bf S}^T {\\bf r}_4 \\\\\n",
    "\\end{bmatrix}            \\\\\n",
    "&+ \\begin{bmatrix}\n",
    "{\\bf u}_1^T & {\\bf f}_2^T & {\\bf f}_3^T & {\\bf f}_4^T\n",
    "\\end{bmatrix}\n",
    "\\begin{bmatrix}\n",
    "{\\bf 0} & (\\frac{\\partial {\\bf L}}{\\partial m_i})^T   & & \\\\\n",
    " & {\\bf 0} & & \\\\\n",
    " & &  {\\bf 0}& \\\\\n",
    " & &  & {\\bf 0} \\\\\n",
    "\\end{bmatrix}\n",
    "\\begin{bmatrix}\n",
    "{\\bf I} & & & \\\\\n",
    " & {\\bf I} & {\\bf L}^T & \\\\\n",
    " & &  {\\bf I}&  \\\\\n",
    " & & & {\\bf I} \\\\\n",
    "\\end {bmatrix}\n",
    "\\begin{bmatrix}\n",
    "{\\bf I} & & & \\\\\n",
    " & {\\bf I} & & \\\\\n",
    " & &  {\\bf I}& {\\bf L}^T \\\\\n",
    " & & & {\\bf I} \\\\\n",
    "\\end {bmatrix}\n",
    "\\begin{bmatrix}\n",
    "{\\bf S}^T {\\bf r}_1 \\\\\n",
    "{\\bf S}^T {\\bf r}_2 \\\\\n",
    "{\\bf S}^T {\\bf r}_3 \\\\\n",
    "{\\bf S}^T {\\bf r}_4 \\\\\n",
    "\\end{bmatrix}            \\\\\n",
    "\\end{align}\n",
    "$$"
   ]
  },
  {
   "cell_type": "markdown",
   "metadata": {},
   "source": [
    "We record the adjoint wavefield as ${\\bf b}^k$, so the gradient can be simplified as \n",
    "$$\n",
    "\\begin{align}\n",
    "\\frac{\\partial J}{\\partial m_i} &= (\\frac{\\partial {\\bf u}}{\\partial m_i})^T \\frac{\\partial J}{\\partial {\\bf u}} \\\\\n",
    "&= \\begin{bmatrix}\n",
    "{\\bf u}_1^T & {\\bf u}_2^T & {\\bf u}_3^T & {\\bf f}_4^T\n",
    "\\end{bmatrix}\n",
    "\\begin{bmatrix}\n",
    "{\\bf 0} & & & \\\\\n",
    " & {\\bf 0} & & \\\\\n",
    " & &  {\\bf 0}& (\\frac{\\partial {\\bf L}}{\\partial m_i})^T \\\\\n",
    " & &  & {\\bf 0} \\\\\n",
    "\\end{bmatrix}\n",
    "\\begin{bmatrix}\n",
    "{\\bf S}^T {\\bf r}_1 \\\\\n",
    "{\\bf S}^T {\\bf r}_2 \\\\\n",
    "{\\bf S}^T {\\bf r}_3 \\\\\n",
    "{\\bf b}_4 \\\\\n",
    "\\end{bmatrix}            \\\\\n",
    "&+ \\begin{bmatrix}\n",
    "{\\bf u}_1^T & {\\bf u}_2^T & {\\bf f}_3^T & {\\bf f}_4^T\n",
    "\\end{bmatrix}\n",
    "\\begin{bmatrix}\n",
    "{\\bf 0} & & & \\\\\n",
    " & {\\bf 0} & (\\frac{\\partial {\\bf L}}{\\partial m_i})^T & \\\\\n",
    " & &  {\\bf 0}&  \\\\\n",
    " & &  & {\\bf 0} \\\\\n",
    "\\end{bmatrix}\n",
    "\\begin{bmatrix}\n",
    "{\\bf S}^T {\\bf r}_1 \\\\\n",
    "{\\bf S}^T {\\bf r}_2 \\\\\n",
    " {\\bf b}_3 \\\\\n",
    " {\\bf b}_4 \\\\\n",
    "\\end{bmatrix}            \\\\\n",
    "&+ \\begin{bmatrix}\n",
    "{\\bf u}_1^T & {\\bf f}_2^T & {\\bf f}_3^T & {\\bf f}_4^T\n",
    "\\end{bmatrix}\n",
    "\\begin{bmatrix}\n",
    "{\\bf 0} & (\\frac{\\partial {\\bf L}}{\\partial m_i})^T   & & \\\\\n",
    " & {\\bf 0} & & \\\\\n",
    " & &  {\\bf 0}& \\\\\n",
    " & &  & {\\bf 0} \\\\\n",
    "\\end{bmatrix}\n",
    "\\begin{bmatrix}\n",
    "{\\bf S}^T {\\bf r}_1 \\\\\n",
    " {\\bf b}_2 \\\\\n",
    " {\\bf b}_3 \\\\\n",
    " {\\bf b}_4 \\\\\n",
    "\\end{bmatrix}            \\\\\n",
    "\\end{align}\n",
    "$$"
   ]
  },
  {
   "cell_type": "markdown",
   "metadata": {},
   "source": [
    "So the final form is \n",
    "$$\\frac{\\partial J}{\\partial m_i} = {\\bf u}_3^T (\\frac{\\partial L}{\\partial m_i})^T {\\bf b}_4 \n",
    "+ {\\bf u}_2^T (\\frac{\\partial L}{\\partial m_i})^T {\\bf b}_3 \n",
    "+ {\\bf u}_1^T (\\frac{\\partial L}{\\partial m_i})^T {\\bf b}_2 $$"
   ]
  },
  {
   "cell_type": "code",
   "execution_count": null,
   "metadata": {},
   "outputs": [],
   "source": [
    "h"
   ]
  }
 ],
 "metadata": {
  "kernelspec": {
   "display_name": "Julia 1.0.3",
   "language": "julia",
   "name": "julia-1.0"
  },
  "language_info": {
   "file_extension": ".jl",
   "mimetype": "application/julia",
   "name": "julia",
   "version": "1.0.3"
  }
 },
 "nbformat": 4,
 "nbformat_minor": 2
}
