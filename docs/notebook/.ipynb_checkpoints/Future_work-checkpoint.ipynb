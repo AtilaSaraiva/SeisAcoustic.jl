{
 "cells": [
  {
   "cell_type": "markdown",
   "metadata": {},
   "source": [
    "## Future work "
   ]
  },
  {
   "cell_type": "markdown",
   "metadata": {},
   "source": [
    "#### Parallel modelling and backward propagation "
   ]
  },
  {
   "cell_type": "markdown",
   "metadata": {},
   "source": [
    "#### Optimization package \n",
    "1. CGLS\n",
    "2. IRLS\n",
    "3. FISTA\n",
    "4. Gradient projection\n",
    "5. Preconditioned Steepest descent\n",
    "6. Preconditioned nonlinear CG\n",
    "7. LBFGS\n",
    "8. (Truncated) Gauss-Newton\n",
    "9. (Truncated) Newton method"
   ]
  },
  {
   "cell_type": "markdown",
   "metadata": {},
   "source": [
    "#### pre-conditioner\n",
    "1. pseudo-Hessian\n",
    "2. anisotropic diffusion (smoothing)\n",
    "3. scaled-Sobolev norms"
   ]
  },
  {
   "cell_type": "markdown",
   "metadata": {},
   "source": [
    "#### Metic\n",
    "1. L2 norm                       ($\\surd$)\n",
    "2. Normalized cross-correlation\n",
    "3. envelope"
   ]
  },
  {
   "cell_type": "markdown",
   "metadata": {},
   "source": [
    "#### Elastic imaging package\n",
    "1. anelastic\n",
    "2. free-surface\n",
    "3. CPML"
   ]
  }
 ],
 "metadata": {
  "kernelspec": {
   "display_name": "Julia 1.0.3",
   "language": "julia",
   "name": "julia-1.0"
  },
  "language_info": {
   "file_extension": ".jl",
   "mimetype": "application/julia",
   "name": "julia",
   "version": "1.0.3"
  }
 },
 "nbformat": 4,
 "nbformat_minor": 2
}
